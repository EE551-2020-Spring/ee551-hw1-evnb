{
 "cells": [
  {
   "cell_type": "code",
   "execution_count": null,
   "metadata": {},
   "outputs": [],
   "source": [
    "# %load EE551_HW1.py\n",
    "#!/usr/bin/python\n",
    "\n",
    "\"\"\"\n",
    "Python Core object Types\n",
    "\"\"\""
   ]
  },
  {
   "cell_type": "code",
   "execution_count": 4,
   "metadata": {},
   "outputs": [],
   "source": [
    "import math"
   ]
  },
  {
   "cell_type": "code",
   "execution_count": 5,
   "metadata": {},
   "outputs": [],
   "source": [
    "def numbers_and_strings():\n",
    "    \"\"\"\n",
    "    This is to review numbers and strings and basic operations.\n",
    "    \"\"\""
   ]
  },
  {
   "cell_type": "code",
   "execution_count": 12,
   "metadata": {},
   "outputs": [],
   "source": [
    "    # Assign a string \"EE551\" to a variable x\n",
    "    x = \"EE551\""
   ]
  },
  {
   "cell_type": "code",
   "execution_count": 13,
   "metadata": {},
   "outputs": [
    {
     "data": {
      "text/plain": [
       "'EE551'"
      ]
     },
     "execution_count": 13,
     "metadata": {},
     "output_type": "execute_result"
    }
   ],
   "source": [
    "x"
   ]
  },
  {
   "cell_type": "code",
   "execution_count": 10,
   "metadata": {},
   "outputs": [],
   "source": [
    "    # Assign a string \"Stevens\" to a variable y\n",
    "    y = \"Stevens\""
   ]
  },
  {
   "cell_type": "code",
   "execution_count": 11,
   "metadata": {},
   "outputs": [
    {
     "data": {
      "text/plain": [
       "'Stevens'"
      ]
     },
     "execution_count": 11,
     "metadata": {},
     "output_type": "execute_result"
    }
   ],
   "source": [
    "y"
   ]
  },
  {
   "cell_type": "code",
   "execution_count": 8,
   "metadata": {},
   "outputs": [],
   "source": [
    "    # Repeat variable y 5 times\n",
    "    z = y*5"
   ]
  },
  {
   "cell_type": "code",
   "execution_count": 9,
   "metadata": {},
   "outputs": [
    {
     "data": {
      "text/plain": [
       "'StevensStevensStevensStevensStevens'"
      ]
     },
     "execution_count": 9,
     "metadata": {},
     "output_type": "execute_result"
    }
   ],
   "source": [
    "z"
   ]
  },
  {
   "cell_type": "code",
   "execution_count": 14,
   "metadata": {},
   "outputs": [],
   "source": [
    "    # What is the length of z?\n",
    "    length = len(z)"
   ]
  },
  {
   "cell_type": "code",
   "execution_count": 15,
   "metadata": {},
   "outputs": [
    {
     "data": {
      "text/plain": [
       "35"
      ]
     },
     "execution_count": 15,
     "metadata": {},
     "output_type": "execute_result"
    }
   ],
   "source": [
    "length"
   ]
  },
  {
   "cell_type": "code",
   "execution_count": 16,
   "metadata": {},
   "outputs": [],
   "source": [
    "    # Concatenate variable y with string \" is good\"\n",
    "    m = y + \" is good\""
   ]
  },
  {
   "cell_type": "code",
   "execution_count": 17,
   "metadata": {},
   "outputs": [
    {
     "data": {
      "text/plain": [
       "'Stevens is good'"
      ]
     },
     "execution_count": 17,
     "metadata": {},
     "output_type": "execute_result"
    }
   ],
   "source": [
    "m"
   ]
  },
  {
   "cell_type": "code",
   "execution_count": 19,
   "metadata": {},
   "outputs": [
    {
     "data": {
      "text/plain": [
       "'Stevens is awesome'"
      ]
     },
     "execution_count": 19,
     "metadata": {},
     "output_type": "execute_result"
    }
   ],
   "source": [
    "    # Replace \"good\" with \"awesome\" in variable m and assign it to a new variable n\n",
    "\n",
    "    n = m.replace(\"good\", \"awesome\")\n",
    "    n"
   ]
  },
  {
   "cell_type": "code",
   "execution_count": 20,
   "metadata": {},
   "outputs": [
    {
     "ename": "SyntaxError",
     "evalue": "'return' outside function (<ipython-input-20-d60eb1b7ee97>, line 1)",
     "output_type": "error",
     "traceback": [
      "\u001b[0;36m  File \u001b[0;32m\"<ipython-input-20-d60eb1b7ee97>\"\u001b[0;36m, line \u001b[0;32m1\u001b[0m\n\u001b[0;31m    return x, y, z, length, m, n\u001b[0m\n\u001b[0m                                ^\u001b[0m\n\u001b[0;31mSyntaxError\u001b[0m\u001b[0;31m:\u001b[0m 'return' outside function\n"
     ]
    }
   ],
   "source": [
    "    return x, y, z, length, m, n"
   ]
  },
  {
   "cell_type": "code",
   "execution_count": null,
   "metadata": {},
   "outputs": [],
   "source": [
    "def lists():\n",
    "    "
   ]
  },
  {
   "cell_type": "code",
   "execution_count": null,
   "metadata": {},
   "outputs": [],
   "source": [
    "    \"\"\"\n",
    "    This is to review basic operations with lists.\n",
    "    \"\"\""
   ]
  },
  {
   "cell_type": "code",
   "execution_count": 21,
   "metadata": {},
   "outputs": [],
   "source": [
    "    n = \"Stevens is awesome\""
   ]
  },
  {
   "cell_type": "code",
   "execution_count": 24,
   "metadata": {},
   "outputs": [
    {
     "data": {
      "text/plain": [
       "['Stevens', 'is', 'awesome']"
      ]
     },
     "execution_count": 24,
     "metadata": {},
     "output_type": "execute_result"
    }
   ],
   "source": [
    "    # Split variable n on a delimiter space into a list of substrings\n",
    "    nlist = n.split()\n",
    "    nlist"
   ]
  },
  {
   "cell_type": "code",
   "execution_count": 30,
   "metadata": {},
   "outputs": [
    {
     "data": {
      "text/plain": [
       "'wesome'"
      ]
     },
     "execution_count": 30,
     "metadata": {},
     "output_type": "execute_result"
    }
   ],
   "source": [
    "    # Get all the items past the first of the third substring\n",
    "    someitems = nlist[2][1:]\n",
    "    someitems"
   ]
  },
  {
   "cell_type": "code",
   "execution_count": 31,
   "metadata": {},
   "outputs": [
    {
     "data": {
      "text/plain": [
       "[[1, 4, 5], [6, 10, 11], [12, 17, 38]]"
      ]
     },
     "execution_count": 31,
     "metadata": {},
     "output_type": "execute_result"
    }
   ],
   "source": [
    "    # Create a 3 x 3 matrix as nested list such that\n",
    "    #   first row is [1, 4, 5]\n",
    "    #   second row is [6, 10, 11]\n",
    "    #   third row is [12, 17, 38]\n",
    "    matrix = [[1, 4, 5], [6, 10, 11], [12, 17, 38]]\n",
    "    matrix"
   ]
  },
  {
   "cell_type": "code",
   "execution_count": 37,
   "metadata": {},
   "outputs": [
    {
     "data": {
      "text/plain": [
       "[5, 11, 38]"
      ]
     },
     "execution_count": 37,
     "metadata": {},
     "output_type": "execute_result"
    }
   ],
   "source": [
    "    # Collect the items in the last column of matrix A using list comprehension\n",
    "    lastcolumn = [row[-1] for row in matrix]\n",
    "    lastcolumn"
   ]
  },
  {
   "cell_type": "code",
   "execution_count": 40,
   "metadata": {},
   "outputs": [
    {
     "data": {
      "text/plain": [
       "[10, 38]"
      ]
     },
     "execution_count": 40,
     "metadata": {},
     "output_type": "execute_result"
    }
   ],
   "source": [
    "    # Collect only the even items of the diagonal of matrix A using list comprehension\n",
    "    diagonalevens = [matrix[i][i] for i in range(len(matrix)) if matrix[i][i]%2==0]\n",
    "    diagonalevens"
   ]
  },
  {
   "cell_type": "code",
   "execution_count": 41,
   "metadata": {},
   "outputs": [
    {
     "data": {
      "text/plain": [
       "[83, 116, 101, 118, 101, 110, 115]"
      ]
     },
     "execution_count": 41,
     "metadata": {},
     "output_type": "execute_result"
    }
   ],
   "source": [
    "    # We can convert a single character to its underlying integer code (e.g., its ASCII byte value)\n",
    "    # by passing it to the built-in ord function. Generate a list of these integers to represent\n",
    "    # each character of the string \"Stevens\" using list comprehension.\n",
    "    asciilist = [ord(c) for c in \"Stevens\"]\n",
    "    asciilist"
   ]
  },
  {
   "cell_type": "code",
   "execution_count": null,
   "metadata": {},
   "outputs": [],
   "source": [
    "    return nlist, someitems, lastcolumn, diagonalevens, asciilist"
   ]
  },
  {
   "cell_type": "code",
   "execution_count": null,
   "metadata": {},
   "outputs": [],
   "source": [
    "def dictionaries():\n",
    "    \"\"\"\n",
    "    This is to review basic operations with dictionaries.\n",
    "    \"\"\""
   ]
  },
  {
   "cell_type": "code",
   "execution_count": 42,
   "metadata": {},
   "outputs": [
    {
     "data": {
      "text/plain": [
       "{'fruit': 'apple', 'quantity': 4, 'color': 'green'}"
      ]
     },
     "execution_count": 42,
     "metadata": {},
     "output_type": "execute_result"
    }
   ],
   "source": [
    "    # Create a dictionary that maps:\n",
    "    #   fruit => \"apple\"\n",
    "    #   quantity => 4\n",
    "    #   color => \"green\"\n",
    "    dictionary = {\"fruit\" : \"apple\", \"quantity\" : 4, \"color\" : \"green\"}\n",
    "    dictionary"
   ]
  },
  {
   "cell_type": "code",
   "execution_count": 44,
   "metadata": {},
   "outputs": [
    {
     "data": {
      "text/plain": [
       "'apple'"
      ]
     },
     "execution_count": 44,
     "metadata": {},
     "output_type": "execute_result"
    }
   ],
   "source": [
    "    # Get the item in dictionary f that the key \"fruit\" maps to\n",
    "    fruitval = dictionary[\"fruit\"]\n",
    "    fruitval"
   ]
  },
  {
   "cell_type": "code",
   "execution_count": 49,
   "metadata": {},
   "outputs": [
    {
     "data": {
      "text/plain": [
       "{'fruit': 'apple', 'quantity': 5, 'color': 'green'}"
      ]
     },
     "execution_count": 49,
     "metadata": {},
     "output_type": "execute_result"
    }
   ],
   "source": [
    "    # Increase the quantity of f by 1\n",
    "    # IMPLEMENT IT HERE\n",
    "    ++ dictionary[\"quantity\"]\n",
    "    dictionary"
   ]
  },
  {
   "cell_type": "code",
   "execution_count": 64,
   "metadata": {},
   "outputs": [
    {
     "data": {
      "text/plain": [
       "{'name': {'first_name': 'Grace', 'last_name': 'Hopper'},\n",
       " 'jobs': ['scientist', 'engineer'],\n",
       " 'age': 85}"
      ]
     },
     "execution_count": 64,
     "metadata": {},
     "output_type": "execute_result"
    }
   ],
   "source": [
    "    # Create a nested dictionary where:\n",
    "    #   name => {first_name => \"Grace\", last_name => \"Hopper\"} (a dictionary)\n",
    "    #   jobs => [\"scientist\", \"engineer\"] (a list)\n",
    "    #   age => 85\n",
    "    nesteddictionary = {\"name\" : {\"first_name\" : \"Grace\", \"last_name\" : \"Hopper\"}, \"jobs\" : [\"scientist\", \"engineer\"], \"age\" : 85}\n",
    "    nesteddictionary"
   ]
  },
  {
   "cell_type": "code",
   "execution_count": 65,
   "metadata": {},
   "outputs": [
    {
     "data": {
      "text/plain": [
       "{'name': {'first_name': 'Grace', 'last_name': 'Hopper'},\n",
       " 'jobs': ['scientist', 'engineer', 'programmer'],\n",
       " 'age': 85}"
      ]
     },
     "execution_count": 65,
     "metadata": {},
     "output_type": "execute_result"
    }
   ],
   "source": [
    "    # Add \"programmer\" to the list of jobs Grace has\n",
    "    # IMPLEMENT IT HERE\n",
    "    nesteddictionary[\"jobs\"] += [\"programmer\"]\n",
    "    nesteddictionary"
   ]
  },
  {
   "cell_type": "code",
   "execution_count": 66,
   "metadata": {},
   "outputs": [
    {
     "data": {
      "text/plain": [
       "'programmer'"
      ]
     },
     "execution_count": 66,
     "metadata": {},
     "output_type": "execute_result"
    }
   ],
   "source": [
    "    # Get the third job Grace has that you recently added\n",
    "    thirdjob = nesteddictionary[\"jobs\"][2]\n",
    "    thirdjob"
   ]
  },
  {
   "cell_type": "code",
   "execution_count": 87,
   "metadata": {},
   "outputs": [
    {
     "data": {
      "text/plain": [
       "['name', 'jobs', 'age']"
      ]
     },
     "execution_count": 87,
     "metadata": {},
     "output_type": "execute_result"
    }
   ],
   "source": [
    "    # Use the sort() function to get sorted keys of amazing_grace in alphabetically ascending order\n",
    "    gracekeys = list(nesteddictionary)\n",
    "    gracekeys"
   ]
  },
  {
   "cell_type": "code",
   "execution_count": 88,
   "metadata": {},
   "outputs": [
    {
     "data": {
      "text/plain": [
       "['age', 'jobs', 'name']"
      ]
     },
     "execution_count": 88,
     "metadata": {},
     "output_type": "execute_result"
    }
   ],
   "source": [
    "    gracekeys.sort()\n",
    "    gracekeys"
   ]
  },
  {
   "cell_type": "code",
   "execution_count": null,
   "metadata": {},
   "outputs": [],
   "source": [
    "    return a, f, p, k"
   ]
  },
  {
   "cell_type": "code",
   "execution_count": null,
   "metadata": {},
   "outputs": [],
   "source": [
    "numbers_and_strings()\n",
    "lists()\n",
    "dictionaries()"
   ]
  },
  {
   "cell_type": "code",
   "execution_count": null,
   "metadata": {},
   "outputs": [],
   "source": []
  }
 ],
 "metadata": {
  "kernelspec": {
   "display_name": "Python 3",
   "language": "python",
   "name": "python3"
  },
  "language_info": {
   "codemirror_mode": {
    "name": "ipython",
    "version": 3
   },
   "file_extension": ".py",
   "mimetype": "text/x-python",
   "name": "python",
   "nbconvert_exporter": "python",
   "pygments_lexer": "ipython3",
   "version": "3.6.7"
  }
 },
 "nbformat": 4,
 "nbformat_minor": 2
}
